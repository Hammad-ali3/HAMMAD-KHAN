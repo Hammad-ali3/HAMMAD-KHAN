{
 "cells": [
  {
   "cell_type": "code",
   "execution_count": 23,
   "metadata": {},
   "outputs": [
    {
     "name": "stdout",
     "output_type": "stream",
     "text": [
      "Hammad\n"
     ]
    }
   ],
   "source": [
    "\n",
    "name= \"HAMMAD\"\n",
    "print(name.capitalize())"
   ]
  },
  {
   "cell_type": "code",
   "execution_count": 24,
   "metadata": {},
   "outputs": [
    {
     "name": "stdout",
     "output_type": "stream",
     "text": [
      "hammad\n"
     ]
    }
   ],
   "source": [
    "name=\"HAMMAD\"\n",
    "print(name.casefold())"
   ]
  },
  {
   "cell_type": "code",
   "execution_count": 25,
   "metadata": {},
   "outputs": [
    {
     "name": "stdout",
     "output_type": "stream",
     "text": [
      "                    I am PAKISTANI                   \n"
     ]
    }
   ],
   "source": [
    "name=\"I am PAKISTANI\"\n",
    "h=name.center(53)\n",
    "\n",
    "print(h)"
   ]
  },
  {
   "cell_type": "code",
   "execution_count": 28,
   "metadata": {},
   "outputs": [
    {
     "name": "stdout",
     "output_type": "stream",
     "text": [
      "1\n"
     ]
    }
   ],
   "source": [
    "h=\"HAMMAD\"\n",
    "print(h.count(\"HAMMAD\"))\n"
   ]
  },
  {
   "cell_type": "code",
   "execution_count": 29,
   "metadata": {},
   "outputs": [
    {
     "name": "stdout",
     "output_type": "stream",
     "text": [
      "False\n",
      "True\n"
     ]
    }
   ],
   "source": [
    "h=\"I am PAKISTANI\"\n",
    "p=h.endswith('PAKISTANI.')\n",
    "print(p)\n",
    "p=h.endswith(\"PAKISTANI\")\n",
    "print(p)"
   ]
  },
  {
   "cell_type": "code",
   "execution_count": 30,
   "metadata": {},
   "outputs": [
    {
     "name": "stdout",
     "output_type": "stream",
     "text": [
      "I               am\\PAKISTANI\n"
     ]
    }
   ],
   "source": [
    "h=\"I\\tam\\PAKISTANI\"\n",
    "print(h.expandtabs(16))"
   ]
  },
  {
   "cell_type": "code",
   "execution_count": 31,
   "metadata": {},
   "outputs": [
    {
     "name": "stdout",
     "output_type": "stream",
     "text": [
      "1\n"
     ]
    }
   ],
   "source": [
    "h = ['I','am','PAKISTANI']\n",
    "print(h.index('am'))"
   ]
  },
  {
   "cell_type": "code",
   "execution_count": 32,
   "metadata": {},
   "outputs": [
    {
     "name": "stdout",
     "output_type": "stream",
     "text": [
      "True\n",
      "False\n"
     ]
    }
   ],
   "source": [
    "h=\"5399\"\n",
    "print(h.isdecimal())\n",
    "p=\"PAKISTANI\"\n",
    "print(p.isdecimal())"
   ]
  },
  {
   "cell_type": "code",
   "execution_count": 33,
   "metadata": {},
   "outputs": [
    {
     "name": "stdout",
     "output_type": "stream",
     "text": [
      "True\n",
      "True\n"
     ]
    }
   ],
   "source": [
    "h=\"HAMMAD\"\n",
    "print(h.isupper())\n",
    "p=\"HASHIM\"\n",
    "print(p.isupper())"
   ]
  },
  {
   "cell_type": "code",
   "execution_count": 34,
   "metadata": {},
   "outputs": [
    {
     "name": "stdout",
     "output_type": "stream",
     "text": [
      "True\n",
      "False\n"
     ]
    }
   ],
   "source": [
    "h=\"5399\"\n",
    "print(h.isdecimal())\n",
    "p=\"HASHIM\"\n",
    "print(p.isdecimal())"
   ]
  },
  {
   "cell_type": "code",
   "execution_count": 35,
   "metadata": {},
   "outputs": [
    {
     "name": "stdout",
     "output_type": "stream",
     "text": [
      "False\n",
      "True\n"
     ]
    }
   ],
   "source": [
    "\n",
    "h=\"I am PAKISTANI\"\n",
    "print(h.isidentifier())\n",
    "p=\"Iampakistani\"\n",
    "print(p.isidentifier())"
   ]
  },
  {
   "cell_type": "code",
   "execution_count": 36,
   "metadata": {},
   "outputs": [
    {
     "name": "stdout",
     "output_type": "stream",
     "text": [
      "False\n"
     ]
    }
   ],
   "source": [
    "h=\"HAMMAD\"\n",
    "print(h.islower())"
   ]
  },
  {
   "cell_type": "code",
   "execution_count": 13,
   "metadata": {},
   "outputs": [
    {
     "name": "stdout",
     "output_type": "stream",
     "text": [
      "f+p\n"
     ]
    }
   ],
   "source": [
    "h=['f','p']\n",
    "p=\"+\"\n",
    "m=p.join(h)\n",
    "print(m)"
   ]
  },
  {
   "cell_type": "code",
   "execution_count": 37,
   "metadata": {},
   "outputs": [
    {
     "name": "stdout",
     "output_type": "stream",
     "text": [
      "I love PAKISTANI\n"
     ]
    }
   ],
   "source": [
    "h=\"I like PAKISTANI\"\n",
    "print(h.replace(\"like\",\"love\"))"
   ]
  },
  {
   "cell_type": "code",
   "execution_count": 38,
   "metadata": {},
   "outputs": [
    {
     "name": "stdout",
     "output_type": "stream",
     "text": [
      "I am FEMENIST\n"
     ]
    }
   ],
   "source": [
    "h=\"I am FEMENIST\"\n",
    "print(h.strip(\"is\"))"
   ]
  },
  {
   "cell_type": "code",
   "execution_count": 39,
   "metadata": {},
   "outputs": [
    {
     "name": "stdout",
     "output_type": "stream",
     "text": [
      "hammad\n"
     ]
    }
   ],
   "source": [
    "\n",
    "h='HAMMAD'\n",
    "print(h.swapcase())"
   ]
  },
  {
   "cell_type": "code",
   "execution_count": 40,
   "metadata": {},
   "outputs": [
    {
     "name": "stdout",
     "output_type": "stream",
     "text": [
      "['I\\\\ am\\\\ PAKISTANI']\n"
     ]
    }
   ],
   "source": [
    "h=\"I\\ am\\ PAKISTANI\"\n",
    "print(h.splitlines(40))"
   ]
  },
  {
   "cell_type": "code",
   "execution_count": 41,
   "metadata": {},
   "outputs": [
    {
     "name": "stdout",
     "output_type": "stream",
     "text": [
      "000000000000000000000000000000000000000I am PAKISTANI\n",
      "00000000000000000000I am HASHIM\n"
     ]
    }
   ],
   "source": [
    "h=\"I am PAKISTANI\"\n",
    "print(h.zfill(53))\n",
    "p=\"I am HASHIM\"\n",
    "print(p.zfill(31))\n"
   ]
  },
  {
   "cell_type": "code",
   "execution_count": 42,
   "metadata": {},
   "outputs": [
    {
     "name": "stdout",
     "output_type": "stream",
     "text": [
      "HAMMAD\n"
     ]
    }
   ],
   "source": [
    "h=\"HAMMAD\"\n",
    "print(h.upper())"
   ]
  },
  {
   "cell_type": "code",
   "execution_count": 43,
   "metadata": {},
   "outputs": [
    {
     "name": "stdout",
     "output_type": "stream",
     "text": [
      "HAMMAD\n"
     ]
    }
   ],
   "source": [
    "h=\"             HAMMAD\"\n",
    "print(h.lstrip())"
   ]
  },
  {
   "cell_type": "code",
   "execution_count": 44,
   "metadata": {},
   "outputs": [
    {
     "name": "stdout",
     "output_type": "stream",
     "text": [
      "HAMMAD\n"
     ]
    }
   ],
   "source": [
    "h=\"HAMMADiiii\"\n",
    "print(h.rstrip('i'))"
   ]
  },
  {
   "cell_type": "code",
   "execution_count": 22,
   "metadata": {},
   "outputs": [
    {
     "data": {
      "text/plain": [
       "36"
      ]
     },
     "execution_count": 22,
     "metadata": {},
     "output_type": "execute_result"
    }
   ],
   "source": [
    "h=5\n",
    "h.__add__(31)"
   ]
  },
  {
   "cell_type": "code",
   "execution_count": null,
   "metadata": {},
   "outputs": [],
   "source": []
  }
 ],
 "metadata": {
  "kernelspec": {
   "display_name": "Python 3",
   "language": "python",
   "name": "python3"
  },
  "language_info": {
   "codemirror_mode": {
    "name": "ipython",
    "version": 3
   },
   "file_extension": ".py",
   "mimetype": "text/x-python",
   "name": "python",
   "nbconvert_exporter": "python",
   "pygments_lexer": "ipython3",
   "version": "3.7.4"
  }
 },
 "nbformat": 4,
 "nbformat_minor": 2
}
